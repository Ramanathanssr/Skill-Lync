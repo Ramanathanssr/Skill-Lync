{
 "cells": [
  {
   "cell_type": "markdown",
   "id": "d9e01288",
   "metadata": {},
   "source": [
    "## Project 2 - EDA on Vehicle Insurance Customer Data"
   ]
  },
  {
   "cell_type": "code",
   "execution_count": 1,
   "id": "236e99d3",
   "metadata": {},
   "outputs": [],
   "source": [
    "import numpy as np\n",
    "import pandas as pd\n",
    "import warnings\n",
    "#warnings.simplefilter('ignore',Userwarning)\n"
   ]
  },
  {
   "cell_type": "code",
   "execution_count": 2,
   "id": "1004c1a5",
   "metadata": {},
   "outputs": [],
   "source": [
    "customer_details=pd.read_csv('customer_details.csv')"
   ]
  },
  {
   "cell_type": "code",
   "execution_count": 3,
   "id": "63372328",
   "metadata": {},
   "outputs": [],
   "source": [
    "customer_policy_details=pd.read_csv('customer_policy_details.csv')"
   ]
  },
  {
   "cell_type": "markdown",
   "id": "5af9f00e",
   "metadata": {},
   "source": [
    "## 1. Add the column names to both datasets:"
   ]
  },
  {
   "cell_type": "markdown",
   "id": "31f13c75",
   "metadata": {},
   "source": [
    "## i. Column Name for customer details table:"
   ]
  },
  {
   "cell_type": "code",
   "execution_count": 4,
   "id": "798b209e",
   "metadata": {},
   "outputs": [
    {
     "data": {
      "text/html": [
       "<div>\n",
       "<style scoped>\n",
       "    .dataframe tbody tr th:only-of-type {\n",
       "        vertical-align: middle;\n",
       "    }\n",
       "\n",
       "    .dataframe tbody tr th {\n",
       "        vertical-align: top;\n",
       "    }\n",
       "\n",
       "    .dataframe thead th {\n",
       "        text-align: right;\n",
       "    }\n",
       "</style>\n",
       "<table border=\"1\" class=\"dataframe\">\n",
       "  <thead>\n",
       "    <tr style=\"text-align: right;\">\n",
       "      <th></th>\n",
       "      <th>customer_id</th>\n",
       "      <th>gender</th>\n",
       "      <th>age</th>\n",
       "      <th>driving_license_present</th>\n",
       "      <th>region_code</th>\n",
       "      <th>previously_insured</th>\n",
       "      <th>vehicle_age</th>\n",
       "      <th>vehicle_damage</th>\n",
       "    </tr>\n",
       "  </thead>\n",
       "  <tbody>\n",
       "    <tr>\n",
       "      <th>1</th>\n",
       "      <td>1.0</td>\n",
       "      <td>Male</td>\n",
       "      <td>44.0</td>\n",
       "      <td>1.0</td>\n",
       "      <td>28.0</td>\n",
       "      <td>0.0</td>\n",
       "      <td>&gt; 2 Years</td>\n",
       "      <td>Yes</td>\n",
       "    </tr>\n",
       "    <tr>\n",
       "      <th>2</th>\n",
       "      <td>2.0</td>\n",
       "      <td>Male</td>\n",
       "      <td>76.0</td>\n",
       "      <td>1.0</td>\n",
       "      <td>3.0</td>\n",
       "      <td>0.0</td>\n",
       "      <td>1-2 Year</td>\n",
       "      <td>No</td>\n",
       "    </tr>\n",
       "    <tr>\n",
       "      <th>3</th>\n",
       "      <td>3.0</td>\n",
       "      <td>Male</td>\n",
       "      <td>47.0</td>\n",
       "      <td>1.0</td>\n",
       "      <td>28.0</td>\n",
       "      <td>0.0</td>\n",
       "      <td>&gt; 2 Years</td>\n",
       "      <td>Yes</td>\n",
       "    </tr>\n",
       "    <tr>\n",
       "      <th>4</th>\n",
       "      <td>4.0</td>\n",
       "      <td>Male</td>\n",
       "      <td>21.0</td>\n",
       "      <td>1.0</td>\n",
       "      <td>11.0</td>\n",
       "      <td>1.0</td>\n",
       "      <td>&lt; 1 Year</td>\n",
       "      <td>No</td>\n",
       "    </tr>\n",
       "    <tr>\n",
       "      <th>5</th>\n",
       "      <td>5.0</td>\n",
       "      <td>Female</td>\n",
       "      <td>29.0</td>\n",
       "      <td>1.0</td>\n",
       "      <td>41.0</td>\n",
       "      <td>1.0</td>\n",
       "      <td>&lt; 1 Year</td>\n",
       "      <td>No</td>\n",
       "    </tr>\n",
       "    <tr>\n",
       "      <th>...</th>\n",
       "      <td>...</td>\n",
       "      <td>...</td>\n",
       "      <td>...</td>\n",
       "      <td>...</td>\n",
       "      <td>...</td>\n",
       "      <td>...</td>\n",
       "      <td>...</td>\n",
       "      <td>...</td>\n",
       "    </tr>\n",
       "    <tr>\n",
       "      <th>381105</th>\n",
       "      <td>381105.0</td>\n",
       "      <td>Male</td>\n",
       "      <td>74.0</td>\n",
       "      <td>1.0</td>\n",
       "      <td>26.0</td>\n",
       "      <td>1.0</td>\n",
       "      <td>1-2 Year</td>\n",
       "      <td>No</td>\n",
       "    </tr>\n",
       "    <tr>\n",
       "      <th>381106</th>\n",
       "      <td>381106.0</td>\n",
       "      <td>Male</td>\n",
       "      <td>30.0</td>\n",
       "      <td>1.0</td>\n",
       "      <td>37.0</td>\n",
       "      <td>1.0</td>\n",
       "      <td>&lt; 1 Year</td>\n",
       "      <td>No</td>\n",
       "    </tr>\n",
       "    <tr>\n",
       "      <th>381107</th>\n",
       "      <td>381107.0</td>\n",
       "      <td>Male</td>\n",
       "      <td>21.0</td>\n",
       "      <td>1.0</td>\n",
       "      <td>30.0</td>\n",
       "      <td>1.0</td>\n",
       "      <td>&lt; 1 Year</td>\n",
       "      <td>No</td>\n",
       "    </tr>\n",
       "    <tr>\n",
       "      <th>381108</th>\n",
       "      <td>381108.0</td>\n",
       "      <td>Female</td>\n",
       "      <td>68.0</td>\n",
       "      <td>1.0</td>\n",
       "      <td>14.0</td>\n",
       "      <td>0.0</td>\n",
       "      <td>&gt; 2 Years</td>\n",
       "      <td>Yes</td>\n",
       "    </tr>\n",
       "    <tr>\n",
       "      <th>381109</th>\n",
       "      <td>381109.0</td>\n",
       "      <td>Male</td>\n",
       "      <td>46.0</td>\n",
       "      <td>1.0</td>\n",
       "      <td>29.0</td>\n",
       "      <td>0.0</td>\n",
       "      <td>1-2 Year</td>\n",
       "      <td>No</td>\n",
       "    </tr>\n",
       "  </tbody>\n",
       "</table>\n",
       "<p>381109 rows × 8 columns</p>\n",
       "</div>"
      ],
      "text/plain": [
       "        customer_id  gender   age  driving_license_present  region_code  \\\n",
       "1               1.0    Male  44.0                      1.0         28.0   \n",
       "2               2.0    Male  76.0                      1.0          3.0   \n",
       "3               3.0    Male  47.0                      1.0         28.0   \n",
       "4               4.0    Male  21.0                      1.0         11.0   \n",
       "5               5.0  Female  29.0                      1.0         41.0   \n",
       "...             ...     ...   ...                      ...          ...   \n",
       "381105     381105.0    Male  74.0                      1.0         26.0   \n",
       "381106     381106.0    Male  30.0                      1.0         37.0   \n",
       "381107     381107.0    Male  21.0                      1.0         30.0   \n",
       "381108     381108.0  Female  68.0                      1.0         14.0   \n",
       "381109     381109.0    Male  46.0                      1.0         29.0   \n",
       "\n",
       "        previously_insured vehicle_age vehicle_damage  \n",
       "1                      0.0   > 2 Years            Yes  \n",
       "2                      0.0    1-2 Year             No  \n",
       "3                      0.0   > 2 Years            Yes  \n",
       "4                      1.0    < 1 Year             No  \n",
       "5                      1.0    < 1 Year             No  \n",
       "...                    ...         ...            ...  \n",
       "381105                 1.0    1-2 Year             No  \n",
       "381106                 1.0    < 1 Year             No  \n",
       "381107                 1.0    < 1 Year             No  \n",
       "381108                 0.0   > 2 Years            Yes  \n",
       "381109                 0.0    1-2 Year             No  \n",
       "\n",
       "[381109 rows x 8 columns]"
      ]
     },
     "execution_count": 4,
     "metadata": {},
     "output_type": "execute_result"
    }
   ],
   "source": [
    "customer_details=pd.read_csv('customer_details.csv',header=None,names=['customer_id','gender','age','driving_license_present',\n",
    "                                                      'region_code','previously_insured','vehicle_age','vehicle_damage'])\n",
    "customer_details=customer_details.drop([0],axis=0)\n",
    "customer_details"
   ]
  },
  {
   "cell_type": "code",
   "execution_count": 5,
   "id": "eb1fce76",
   "metadata": {},
   "outputs": [
    {
     "name": "stdout",
     "output_type": "stream",
     "text": [
      "<class 'pandas.core.frame.DataFrame'>\n",
      "RangeIndex: 381109 entries, 1 to 381109\n",
      "Data columns (total 8 columns):\n",
      " #   Column                   Non-Null Count   Dtype  \n",
      "---  ------                   --------------   -----  \n",
      " 0   customer_id              380723 non-null  float64\n",
      " 1   gender                   380741 non-null  object \n",
      " 2   age                      380741 non-null  float64\n",
      " 3   driving_license_present  380716 non-null  float64\n",
      " 4   region_code              380717 non-null  float64\n",
      " 5   previously_insured       380728 non-null  float64\n",
      " 6   vehicle_age              380728 non-null  object \n",
      " 7   vehicle_damage           380702 non-null  object \n",
      "dtypes: float64(5), object(3)\n",
      "memory usage: 23.3+ MB\n"
     ]
    }
   ],
   "source": [
    "customer_details.info()"
   ]
  },
  {
   "cell_type": "markdown",
   "id": "14f8572a",
   "metadata": {},
   "source": [
    "## ii. Column Name for customer_policy table:"
   ]
  },
  {
   "cell_type": "code",
   "execution_count": 6,
   "id": "ee925139",
   "metadata": {},
   "outputs": [
    {
     "name": "stdout",
     "output_type": "stream",
     "text": [
      "<class 'pandas.core.frame.DataFrame'>\n",
      "RangeIndex: 381109 entries, 0 to 381108\n",
      "Data columns (total 5 columns):\n",
      " #   Column  Non-Null Count   Dtype  \n",
      "---  ------  --------------   -----  \n",
      " 0   0       380722 non-null  float64\n",
      " 1   1       380763 non-null  float64\n",
      " 2   2       380709 non-null  float64\n",
      " 3   3       380721 non-null  float64\n",
      " 4   4       380748 non-null  float64\n",
      "dtypes: float64(5)\n",
      "memory usage: 14.5 MB\n"
     ]
    }
   ],
   "source": [
    "customer_policy_details.info()"
   ]
  },
  {
   "cell_type": "code",
   "execution_count": 7,
   "id": "ba654c05",
   "metadata": {},
   "outputs": [
    {
     "data": {
      "text/html": [
       "<div>\n",
       "<style scoped>\n",
       "    .dataframe tbody tr th:only-of-type {\n",
       "        vertical-align: middle;\n",
       "    }\n",
       "\n",
       "    .dataframe tbody tr th {\n",
       "        vertical-align: top;\n",
       "    }\n",
       "\n",
       "    .dataframe thead th {\n",
       "        text-align: right;\n",
       "    }\n",
       "</style>\n",
       "<table border=\"1\" class=\"dataframe\">\n",
       "  <thead>\n",
       "    <tr style=\"text-align: right;\">\n",
       "      <th></th>\n",
       "      <th>customer_id</th>\n",
       "      <th>annual premium (in Rs)</th>\n",
       "      <th>sales channel code</th>\n",
       "      <th>vintage</th>\n",
       "      <th>response</th>\n",
       "    </tr>\n",
       "  </thead>\n",
       "  <tbody>\n",
       "    <tr>\n",
       "      <th>1</th>\n",
       "      <td>1.0</td>\n",
       "      <td>40454.0</td>\n",
       "      <td>26.0</td>\n",
       "      <td>217.0</td>\n",
       "      <td>1.0</td>\n",
       "    </tr>\n",
       "    <tr>\n",
       "      <th>2</th>\n",
       "      <td>2.0</td>\n",
       "      <td>33536.0</td>\n",
       "      <td>26.0</td>\n",
       "      <td>183.0</td>\n",
       "      <td>0.0</td>\n",
       "    </tr>\n",
       "    <tr>\n",
       "      <th>3</th>\n",
       "      <td>3.0</td>\n",
       "      <td>38294.0</td>\n",
       "      <td>26.0</td>\n",
       "      <td>27.0</td>\n",
       "      <td>1.0</td>\n",
       "    </tr>\n",
       "    <tr>\n",
       "      <th>4</th>\n",
       "      <td>4.0</td>\n",
       "      <td>28619.0</td>\n",
       "      <td>152.0</td>\n",
       "      <td>203.0</td>\n",
       "      <td>0.0</td>\n",
       "    </tr>\n",
       "    <tr>\n",
       "      <th>5</th>\n",
       "      <td>5.0</td>\n",
       "      <td>27496.0</td>\n",
       "      <td>152.0</td>\n",
       "      <td>39.0</td>\n",
       "      <td>0.0</td>\n",
       "    </tr>\n",
       "    <tr>\n",
       "      <th>...</th>\n",
       "      <td>...</td>\n",
       "      <td>...</td>\n",
       "      <td>...</td>\n",
       "      <td>...</td>\n",
       "      <td>...</td>\n",
       "    </tr>\n",
       "    <tr>\n",
       "      <th>381105</th>\n",
       "      <td>381105.0</td>\n",
       "      <td>30170.0</td>\n",
       "      <td>26.0</td>\n",
       "      <td>88.0</td>\n",
       "      <td>0.0</td>\n",
       "    </tr>\n",
       "    <tr>\n",
       "      <th>381106</th>\n",
       "      <td>381106.0</td>\n",
       "      <td>40016.0</td>\n",
       "      <td>152.0</td>\n",
       "      <td>131.0</td>\n",
       "      <td>0.0</td>\n",
       "    </tr>\n",
       "    <tr>\n",
       "      <th>381107</th>\n",
       "      <td>381107.0</td>\n",
       "      <td>35118.0</td>\n",
       "      <td>160.0</td>\n",
       "      <td>161.0</td>\n",
       "      <td>0.0</td>\n",
       "    </tr>\n",
       "    <tr>\n",
       "      <th>381108</th>\n",
       "      <td>381108.0</td>\n",
       "      <td>44617.0</td>\n",
       "      <td>124.0</td>\n",
       "      <td>74.0</td>\n",
       "      <td>0.0</td>\n",
       "    </tr>\n",
       "    <tr>\n",
       "      <th>381109</th>\n",
       "      <td>381109.0</td>\n",
       "      <td>41777.0</td>\n",
       "      <td>26.0</td>\n",
       "      <td>237.0</td>\n",
       "      <td>0.0</td>\n",
       "    </tr>\n",
       "  </tbody>\n",
       "</table>\n",
       "<p>381109 rows × 5 columns</p>\n",
       "</div>"
      ],
      "text/plain": [
       "        customer_id  annual premium (in Rs)  sales channel code  vintage  \\\n",
       "1               1.0                 40454.0                26.0    217.0   \n",
       "2               2.0                 33536.0                26.0    183.0   \n",
       "3               3.0                 38294.0                26.0     27.0   \n",
       "4               4.0                 28619.0               152.0    203.0   \n",
       "5               5.0                 27496.0               152.0     39.0   \n",
       "...             ...                     ...                 ...      ...   \n",
       "381105     381105.0                 30170.0                26.0     88.0   \n",
       "381106     381106.0                 40016.0               152.0    131.0   \n",
       "381107     381107.0                 35118.0               160.0    161.0   \n",
       "381108     381108.0                 44617.0               124.0     74.0   \n",
       "381109     381109.0                 41777.0                26.0    237.0   \n",
       "\n",
       "         response  \n",
       "1             1.0  \n",
       "2             0.0  \n",
       "3             1.0  \n",
       "4             0.0  \n",
       "5             0.0  \n",
       "...           ...  \n",
       "381105        0.0  \n",
       "381106        0.0  \n",
       "381107        0.0  \n",
       "381108        0.0  \n",
       "381109        0.0  \n",
       "\n",
       "[381109 rows x 5 columns]"
      ]
     },
     "execution_count": 7,
     "metadata": {},
     "output_type": "execute_result"
    }
   ],
   "source": [
    "customer_policy_details=pd.read_csv('customer_policy_details.csv',header=None,names=['customer_id','annual premium (in Rs)',\n",
    "                                                                         'sales channel code','vintage',' response'])\n",
    "customer_policy_details=customer_policy_details.drop([0],axis=0)\n",
    "customer_policy_details"
   ]
  },
  {
   "cell_type": "code",
   "execution_count": 8,
   "id": "26188831",
   "metadata": {},
   "outputs": [
    {
     "name": "stdout",
     "output_type": "stream",
     "text": [
      "<class 'pandas.core.frame.DataFrame'>\n",
      "RangeIndex: 381109 entries, 1 to 381109\n",
      "Data columns (total 5 columns):\n",
      " #   Column                  Non-Null Count   Dtype  \n",
      "---  ------                  --------------   -----  \n",
      " 0   customer_id             380722 non-null  float64\n",
      " 1   annual premium (in Rs)  380763 non-null  float64\n",
      " 2   sales channel code      380709 non-null  float64\n",
      " 3   vintage                 380721 non-null  float64\n",
      " 4    response               380748 non-null  float64\n",
      "dtypes: float64(5)\n",
      "memory usage: 14.5 MB\n"
     ]
    }
   ],
   "source": [
    "customer_policy_details.info()"
   ]
  },
  {
   "cell_type": "markdown",
   "id": "2ee263f2",
   "metadata": {},
   "source": [
    "## 2. Checking and Cleaning Data Quality:"
   ]
  },
  {
   "cell_type": "markdown",
   "id": "c4bce79e",
   "metadata": {},
   "source": [
    "## i. Null values "
   ]
  },
  {
   "cell_type": "markdown",
   "id": "41482475",
   "metadata": {},
   "source": [
    "## Generate a summary of count of all the null values column wise"
   ]
  },
  {
   "cell_type": "code",
   "execution_count": 9,
   "id": "b3b2a30f",
   "metadata": {},
   "outputs": [
    {
     "data": {
      "text/plain": [
       "customer_id                386\n",
       "gender                     368\n",
       "age                        368\n",
       "driving_license_present    393\n",
       "region_code                392\n",
       "previously_insured         381\n",
       "vehicle_age                381\n",
       "vehicle_damage             407\n",
       "dtype: int64"
      ]
     },
     "execution_count": 9,
     "metadata": {},
     "output_type": "execute_result"
    }
   ],
   "source": [
    "customer_details.isnull().sum()"
   ]
  },
  {
   "cell_type": "code",
   "execution_count": 10,
   "id": "ce475e21",
   "metadata": {},
   "outputs": [
    {
     "data": {
      "text/plain": [
       "customer_id               387\n",
       "annual premium (in Rs)    346\n",
       "sales channel code        400\n",
       "vintage                   388\n",
       " response                 361\n",
       "dtype: int64"
      ]
     },
     "execution_count": 10,
     "metadata": {},
     "output_type": "execute_result"
    }
   ],
   "source": [
    "customer_policy_details.isnull().sum()"
   ]
  },
  {
   "cell_type": "markdown",
   "id": "b91c3759",
   "metadata": {},
   "source": [
    "## Drop Null values for customer_id because central tendencies for id’s is not feasible."
   ]
  },
  {
   "cell_type": "code",
   "execution_count": 11,
   "id": "7b812771",
   "metadata": {},
   "outputs": [],
   "source": [
    "customer_details=customer_details.dropna(subset=['customer_id'])"
   ]
  },
  {
   "cell_type": "code",
   "execution_count": 12,
   "id": "f853871e",
   "metadata": {},
   "outputs": [
    {
     "data": {
      "text/plain": [
       "customer_id                  0\n",
       "gender                     368\n",
       "age                        366\n",
       "driving_license_present    392\n",
       "region_code                391\n",
       "previously_insured         381\n",
       "vehicle_age                381\n",
       "vehicle_damage             406\n",
       "dtype: int64"
      ]
     },
     "execution_count": 12,
     "metadata": {},
     "output_type": "execute_result"
    }
   ],
   "source": [
    "customer_details.isnull().sum()"
   ]
  },
  {
   "cell_type": "code",
   "execution_count": 13,
   "id": "e5c257bf",
   "metadata": {},
   "outputs": [],
   "source": [
    "customer_policy_details=customer_policy_details.dropna(subset=['customer_id'])"
   ]
  },
  {
   "cell_type": "code",
   "execution_count": 14,
   "id": "96694c5a",
   "metadata": {},
   "outputs": [
    {
     "data": {
      "text/plain": [
       "customer_id                 0\n",
       "annual premium (in Rs)    344\n",
       "sales channel code        400\n",
       "vintage                   388\n",
       " response                 361\n",
       "dtype: int64"
      ]
     },
     "execution_count": 14,
     "metadata": {},
     "output_type": "execute_result"
    }
   ],
   "source": [
    "customer_policy_details.isnull().sum()"
   ]
  },
  {
   "cell_type": "markdown",
   "id": "80008e8f",
   "metadata": {},
   "source": [
    "## Replace all null values for numeric columns by mean."
   ]
  },
  {
   "cell_type": "code",
   "execution_count": 15,
   "id": "74e75b99",
   "metadata": {},
   "outputs": [],
   "source": [
    "customer_policy_details=customer_policy_details.fillna(customer_policy_details.mean().mean())"
   ]
  },
  {
   "cell_type": "code",
   "execution_count": 16,
   "id": "b22e4b74",
   "metadata": {},
   "outputs": [
    {
     "data": {
      "text/plain": [
       "customer_id               0\n",
       "annual premium (in Rs)    0\n",
       "sales channel code        0\n",
       "vintage                   0\n",
       " response                 0\n",
       "dtype: int64"
      ]
     },
     "execution_count": 16,
     "metadata": {},
     "output_type": "execute_result"
    }
   ],
   "source": [
    "customer_policy_details.isnull().sum()"
   ]
  },
  {
   "cell_type": "code",
   "execution_count": 17,
   "id": "437ab73d",
   "metadata": {
    "scrolled": true
   },
   "outputs": [
    {
     "name": "stderr",
     "output_type": "stream",
     "text": [
      "C:\\Users\\RAMANATHAN\\AppData\\Local\\Temp\\ipykernel_9484\\1722107701.py:1: SettingWithCopyWarning: \n",
      "A value is trying to be set on a copy of a slice from a DataFrame\n",
      "\n",
      "See the caveats in the documentation: https://pandas.pydata.org/pandas-docs/stable/user_guide/indexing.html#returning-a-view-versus-a-copy\n",
      "  customer_details['customer_id'].fillna(customer_details['customer_id'].mean(),inplace=True)\n"
     ]
    }
   ],
   "source": [
    "customer_details['customer_id'].fillna(customer_details['customer_id'].mean(),inplace=True)"
   ]
  },
  {
   "cell_type": "code",
   "execution_count": 18,
   "id": "29e1e738",
   "metadata": {},
   "outputs": [
    {
     "data": {
      "text/plain": [
       "customer_id                  0\n",
       "gender                     368\n",
       "age                        366\n",
       "driving_license_present    392\n",
       "region_code                391\n",
       "previously_insured         381\n",
       "vehicle_age                381\n",
       "vehicle_damage             406\n",
       "dtype: int64"
      ]
     },
     "execution_count": 18,
     "metadata": {},
     "output_type": "execute_result"
    }
   ],
   "source": [
    "customer_details.isnull().sum()"
   ]
  },
  {
   "cell_type": "code",
   "execution_count": 19,
   "id": "83a924f9",
   "metadata": {
    "scrolled": true
   },
   "outputs": [
    {
     "name": "stderr",
     "output_type": "stream",
     "text": [
      "C:\\Users\\RAMANATHAN\\AppData\\Local\\Temp\\ipykernel_9484\\368346861.py:1: SettingWithCopyWarning: \n",
      "A value is trying to be set on a copy of a slice from a DataFrame\n",
      "\n",
      "See the caveats in the documentation: https://pandas.pydata.org/pandas-docs/stable/user_guide/indexing.html#returning-a-view-versus-a-copy\n",
      "  customer_details['age'].fillna(customer_details['age'].mean(),inplace=True)\n"
     ]
    }
   ],
   "source": [
    "customer_details['age'].fillna(customer_details['age'].mean(),inplace=True)"
   ]
  },
  {
   "cell_type": "code",
   "execution_count": 20,
   "id": "2537e6ff",
   "metadata": {},
   "outputs": [
    {
     "data": {
      "text/plain": [
       "customer_id                  0\n",
       "gender                     368\n",
       "age                          0\n",
       "driving_license_present    392\n",
       "region_code                391\n",
       "previously_insured         381\n",
       "vehicle_age                381\n",
       "vehicle_damage             406\n",
       "dtype: int64"
      ]
     },
     "execution_count": 20,
     "metadata": {},
     "output_type": "execute_result"
    }
   ],
   "source": [
    "customer_details.isnull().sum()"
   ]
  },
  {
   "cell_type": "code",
   "execution_count": 21,
   "id": "164d5b2b",
   "metadata": {},
   "outputs": [
    {
     "name": "stderr",
     "output_type": "stream",
     "text": [
      "C:\\Users\\RAMANATHAN\\AppData\\Local\\Temp\\ipykernel_9484\\980406395.py:1: SettingWithCopyWarning: \n",
      "A value is trying to be set on a copy of a slice from a DataFrame\n",
      "\n",
      "See the caveats in the documentation: https://pandas.pydata.org/pandas-docs/stable/user_guide/indexing.html#returning-a-view-versus-a-copy\n",
      "  customer_details['driving_license_present'].fillna(customer_details['driving_license_present'].mean(),inplace=True)\n"
     ]
    }
   ],
   "source": [
    "customer_details['driving_license_present'].fillna(customer_details['driving_license_present'].mean(),inplace=True)"
   ]
  },
  {
   "cell_type": "code",
   "execution_count": 22,
   "id": "cd7ef653",
   "metadata": {},
   "outputs": [
    {
     "data": {
      "text/plain": [
       "customer_id                  0\n",
       "gender                     368\n",
       "age                          0\n",
       "driving_license_present      0\n",
       "region_code                391\n",
       "previously_insured         381\n",
       "vehicle_age                381\n",
       "vehicle_damage             406\n",
       "dtype: int64"
      ]
     },
     "execution_count": 22,
     "metadata": {},
     "output_type": "execute_result"
    }
   ],
   "source": [
    "customer_details.isnull().sum()"
   ]
  },
  {
   "cell_type": "code",
   "execution_count": 23,
   "id": "61735a7b",
   "metadata": {},
   "outputs": [
    {
     "name": "stderr",
     "output_type": "stream",
     "text": [
      "C:\\Users\\RAMANATHAN\\AppData\\Local\\Temp\\ipykernel_9484\\3160532558.py:1: SettingWithCopyWarning: \n",
      "A value is trying to be set on a copy of a slice from a DataFrame\n",
      "\n",
      "See the caveats in the documentation: https://pandas.pydata.org/pandas-docs/stable/user_guide/indexing.html#returning-a-view-versus-a-copy\n",
      "  customer_details['region_code'].fillna(customer_details['region_code'].mean(),inplace=True)\n"
     ]
    }
   ],
   "source": [
    "customer_details['region_code'].fillna(customer_details['region_code'].mean(),inplace=True)"
   ]
  },
  {
   "cell_type": "code",
   "execution_count": 24,
   "id": "727a1931",
   "metadata": {},
   "outputs": [
    {
     "data": {
      "text/plain": [
       "customer_id                  0\n",
       "gender                     368\n",
       "age                          0\n",
       "driving_license_present      0\n",
       "region_code                  0\n",
       "previously_insured         381\n",
       "vehicle_age                381\n",
       "vehicle_damage             406\n",
       "dtype: int64"
      ]
     },
     "execution_count": 24,
     "metadata": {},
     "output_type": "execute_result"
    }
   ],
   "source": [
    "customer_details.isnull().sum()"
   ]
  },
  {
   "cell_type": "code",
   "execution_count": 25,
   "id": "3b8dc6af",
   "metadata": {},
   "outputs": [
    {
     "name": "stderr",
     "output_type": "stream",
     "text": [
      "C:\\Users\\RAMANATHAN\\AppData\\Local\\Temp\\ipykernel_9484\\426157778.py:1: SettingWithCopyWarning: \n",
      "A value is trying to be set on a copy of a slice from a DataFrame\n",
      "\n",
      "See the caveats in the documentation: https://pandas.pydata.org/pandas-docs/stable/user_guide/indexing.html#returning-a-view-versus-a-copy\n",
      "  customer_details['previously_insured'].fillna(customer_details['previously_insured'].mean(),inplace=True)\n"
     ]
    }
   ],
   "source": [
    "customer_details['previously_insured'].fillna(customer_details['previously_insured'].mean(),inplace=True)"
   ]
  },
  {
   "cell_type": "code",
   "execution_count": 26,
   "id": "9a1c4f9c",
   "metadata": {},
   "outputs": [
    {
     "data": {
      "text/plain": [
       "customer_id                  0\n",
       "gender                     368\n",
       "age                          0\n",
       "driving_license_present      0\n",
       "region_code                  0\n",
       "previously_insured           0\n",
       "vehicle_age                381\n",
       "vehicle_damage             406\n",
       "dtype: int64"
      ]
     },
     "execution_count": 26,
     "metadata": {},
     "output_type": "execute_result"
    }
   ],
   "source": [
    "customer_details.isnull().sum()"
   ]
  },
  {
   "cell_type": "code",
   "execution_count": null,
   "id": "0bdbf1aa",
   "metadata": {},
   "outputs": [],
   "source": []
  },
  {
   "cell_type": "markdown",
   "id": "21dfd056",
   "metadata": {},
   "source": [
    "## Replace all null values for Categorical value by mode"
   ]
  },
  {
   "cell_type": "code",
   "execution_count": 27,
   "id": "964eee02",
   "metadata": {},
   "outputs": [],
   "source": [
    "customer_policy_details=customer_policy_details.fillna(customer_policy_details.mode())"
   ]
  },
  {
   "cell_type": "code",
   "execution_count": 28,
   "id": "00743197",
   "metadata": {},
   "outputs": [
    {
     "data": {
      "text/plain": [
       "customer_id               0\n",
       "annual premium (in Rs)    0\n",
       "sales channel code        0\n",
       "vintage                   0\n",
       " response                 0\n",
       "dtype: int64"
      ]
     },
     "execution_count": 28,
     "metadata": {},
     "output_type": "execute_result"
    }
   ],
   "source": [
    "customer_policy_details.isnull().sum()"
   ]
  },
  {
   "cell_type": "code",
   "execution_count": 29,
   "id": "b14b1d45",
   "metadata": {},
   "outputs": [
    {
     "name": "stderr",
     "output_type": "stream",
     "text": [
      "C:\\Users\\RAMANATHAN\\AppData\\Local\\Temp\\ipykernel_9484\\299561429.py:1: SettingWithCopyWarning: \n",
      "A value is trying to be set on a copy of a slice from a DataFrame\n",
      "\n",
      "See the caveats in the documentation: https://pandas.pydata.org/pandas-docs/stable/user_guide/indexing.html#returning-a-view-versus-a-copy\n",
      "  customer_details['gender'].fillna(customer_details['gender'].mode()[0],inplace=True)\n",
      "C:\\Users\\RAMANATHAN\\AppData\\Local\\Temp\\ipykernel_9484\\299561429.py:2: SettingWithCopyWarning: \n",
      "A value is trying to be set on a copy of a slice from a DataFrame\n",
      "\n",
      "See the caveats in the documentation: https://pandas.pydata.org/pandas-docs/stable/user_guide/indexing.html#returning-a-view-versus-a-copy\n",
      "  customer_details['vehicle_age'].fillna(customer_details['vehicle_age'].mode()[0],inplace=True)\n",
      "C:\\Users\\RAMANATHAN\\AppData\\Local\\Temp\\ipykernel_9484\\299561429.py:3: SettingWithCopyWarning: \n",
      "A value is trying to be set on a copy of a slice from a DataFrame\n",
      "\n",
      "See the caveats in the documentation: https://pandas.pydata.org/pandas-docs/stable/user_guide/indexing.html#returning-a-view-versus-a-copy\n",
      "  customer_details['vehicle_damage'].fillna(customer_details['vehicle_damage'].mode()[0],inplace=True)\n"
     ]
    }
   ],
   "source": [
    "customer_details['gender'].fillna(customer_details['gender'].mode()[0],inplace=True)\n",
    "customer_details['vehicle_age'].fillna(customer_details['vehicle_age'].mode()[0],inplace=True)\n",
    "customer_details['vehicle_damage'].fillna(customer_details['vehicle_damage'].mode()[0],inplace=True)"
   ]
  },
  {
   "cell_type": "code",
   "execution_count": 30,
   "id": "f025da35",
   "metadata": {},
   "outputs": [
    {
     "data": {
      "text/plain": [
       "customer_id                0\n",
       "gender                     0\n",
       "age                        0\n",
       "driving_license_present    0\n",
       "region_code                0\n",
       "previously_insured         0\n",
       "vehicle_age                0\n",
       "vehicle_damage             0\n",
       "dtype: int64"
      ]
     },
     "execution_count": 30,
     "metadata": {},
     "output_type": "execute_result"
    }
   ],
   "source": [
    "customer_details.isnull().sum()"
   ]
  },
  {
   "cell_type": "markdown",
   "id": "006df5e4",
   "metadata": {},
   "source": [
    "## ii. Outliers"
   ]
  },
  {
   "cell_type": "markdown",
   "id": "dc244d50",
   "metadata": {},
   "source": [
    "## Generate a summary of count of all the outliers column wise"
   ]
  },
  {
   "cell_type": "markdown",
   "id": "7791a47c",
   "metadata": {},
   "source": [
    "## (Hint1: for outlier treatment use IQR method as follows:\n",
    "\n",
    "## For example: for a column X calculate Q1 = 25th percentile and Q3 = 75th percentile then IQR = Q3 – Q1 ) then to check outlier, anything lower than a Q1 – 1.5IQR or greater than Q3 + 1.5 IQR would be an outlier"
   ]
  },
  {
   "cell_type": "code",
   "execution_count": 31,
   "id": "2148766d",
   "metadata": {},
   "outputs": [
    {
     "data": {
      "text/plain": [
       "customer_id               0\n",
       "annual premium (in Rs)    0\n",
       "sales channel code        0\n",
       "vintage                   0\n",
       " response                 0\n",
       "dtype: int64"
      ]
     },
     "execution_count": 31,
     "metadata": {},
     "output_type": "execute_result"
    }
   ],
   "source": [
    "q1=customer_policy_details.quantile(0.25)\n",
    "q3=customer_policy_details.quantile(0.75)\n",
    "iqr=q3-q1\n",
    "l=q1-(1.5*iqr)\n",
    "u=q3+(1.5*iqr)\n",
    "((customer_policy_details<l).sum())"
   ]
  },
  {
   "cell_type": "code",
   "execution_count": 32,
   "id": "fde6bf43",
   "metadata": {},
   "outputs": [
    {
     "data": {
      "text/plain": [
       "customer_id                   0\n",
       "annual premium (in Rs)    10239\n",
       "sales channel code          400\n",
       "vintage                     388\n",
       " response                 46965\n",
       "dtype: int64"
      ]
     },
     "execution_count": 32,
     "metadata": {},
     "output_type": "execute_result"
    }
   ],
   "source": [
    "((customer_policy_details>u).sum())"
   ]
  },
  {
   "cell_type": "markdown",
   "id": "8c445d7a",
   "metadata": {},
   "source": [
    "## Replace all outlier values for numeric columns by mean."
   ]
  },
  {
   "cell_type": "code",
   "execution_count": 33,
   "id": "dd68b1df",
   "metadata": {},
   "outputs": [
    {
     "data": {
      "text/plain": [
       "customer_id               381109.0\n",
       "annual premium (in Rs)     61949.0\n",
       "sales channel code           163.0\n",
       "vintage                      299.0\n",
       " response                      0.0\n",
       "dtype: float64"
      ]
     },
     "execution_count": 33,
     "metadata": {},
     "output_type": "execute_result"
    }
   ],
   "source": [
    "customer_policy_details[~(customer_policy_details>(u))].max()"
   ]
  },
  {
   "cell_type": "code",
   "execution_count": 34,
   "id": "9c269a5f",
   "metadata": {},
   "outputs": [],
   "source": [
    "customer_policy_details['annual premium (in Rs)']=customer_policy_details['annual premium (in Rs)'].astype('float')"
   ]
  },
  {
   "cell_type": "code",
   "execution_count": 35,
   "id": "f452afb3",
   "metadata": {},
   "outputs": [],
   "source": [
    "q1=customer_policy_details[['annual premium (in Rs)']].quantile(0.25)\n",
    "q3=customer_policy_details[['annual premium (in Rs)']].quantile(0.75)\n",
    "iqr=q3-q1\n",
    "l=q1-(1.5*iqr)\n",
    "u=q3+(1.5*iqr)"
   ]
  },
  {
   "cell_type": "code",
   "execution_count": 36,
   "id": "7ec52bb7",
   "metadata": {},
   "outputs": [
    {
     "data": {
      "text/plain": [
       "annual premium (in Rs)    10239\n",
       "dtype: int64"
      ]
     },
     "execution_count": 36,
     "metadata": {},
     "output_type": "execute_result"
    }
   ],
   "source": [
    "(customer_policy_details[['annual premium (in Rs)']]>u).sum()"
   ]
  },
  {
   "cell_type": "markdown",
   "id": "ea164a28",
   "metadata": {},
   "source": [
    "## iii. White spaces"
   ]
  },
  {
   "cell_type": "code",
   "execution_count": 37,
   "id": "7c37c777",
   "metadata": {},
   "outputs": [
    {
     "data": {
      "text/plain": [
       "1           Male\n",
       "2           Male\n",
       "3           Male\n",
       "4           Male\n",
       "5         Female\n",
       "           ...  \n",
       "381105      Male\n",
       "381106      Male\n",
       "381107      Male\n",
       "381108    Female\n",
       "381109      Male\n",
       "Name: gender, Length: 380723, dtype: object"
      ]
     },
     "execution_count": 37,
     "metadata": {},
     "output_type": "execute_result"
    }
   ],
   "source": [
    "customer_details['gender'].str.strip()"
   ]
  },
  {
   "cell_type": "code",
   "execution_count": 38,
   "id": "49b60fc1",
   "metadata": {},
   "outputs": [
    {
     "data": {
      "text/plain": [
       "1         Yes\n",
       "2          No\n",
       "3         Yes\n",
       "4          No\n",
       "5          No\n",
       "         ... \n",
       "381105     No\n",
       "381106     No\n",
       "381107     No\n",
       "381108    Yes\n",
       "381109     No\n",
       "Name: vehicle_damage, Length: 380723, dtype: object"
      ]
     },
     "execution_count": 38,
     "metadata": {},
     "output_type": "execute_result"
    }
   ],
   "source": [
    "customer_details['vehicle_damage'].str.strip()"
   ]
  },
  {
   "cell_type": "code",
   "execution_count": 39,
   "id": "dc950f82",
   "metadata": {},
   "outputs": [
    {
     "data": {
      "text/plain": [
       "1         > 2 Years\n",
       "2          1-2 Year\n",
       "3         > 2 Years\n",
       "4          < 1 Year\n",
       "5          < 1 Year\n",
       "            ...    \n",
       "381105     1-2 Year\n",
       "381106     < 1 Year\n",
       "381107     < 1 Year\n",
       "381108    > 2 Years\n",
       "381109     1-2 Year\n",
       "Name: vehicle_age, Length: 380723, dtype: object"
      ]
     },
     "execution_count": 39,
     "metadata": {},
     "output_type": "execute_result"
    }
   ],
   "source": [
    "customer_details['vehicle_age'].str.strip()"
   ]
  },
  {
   "cell_type": "markdown",
   "id": "e402f6b6",
   "metadata": {},
   "source": [
    "## case correction(lower or upper, any one)"
   ]
  },
  {
   "cell_type": "code",
   "execution_count": 40,
   "id": "7263bcfd",
   "metadata": {},
   "outputs": [
    {
     "data": {
      "text/html": [
       "<div>\n",
       "<style scoped>\n",
       "    .dataframe tbody tr th:only-of-type {\n",
       "        vertical-align: middle;\n",
       "    }\n",
       "\n",
       "    .dataframe tbody tr th {\n",
       "        vertical-align: top;\n",
       "    }\n",
       "\n",
       "    .dataframe thead th {\n",
       "        text-align: right;\n",
       "    }\n",
       "</style>\n",
       "<table border=\"1\" class=\"dataframe\">\n",
       "  <thead>\n",
       "    <tr style=\"text-align: right;\">\n",
       "      <th></th>\n",
       "      <th>customer_id</th>\n",
       "      <th>gender</th>\n",
       "      <th>age</th>\n",
       "      <th>driving_license_present</th>\n",
       "      <th>region_code</th>\n",
       "      <th>previously_insured</th>\n",
       "      <th>vehicle_age</th>\n",
       "      <th>vehicle_damage</th>\n",
       "    </tr>\n",
       "  </thead>\n",
       "  <tbody>\n",
       "    <tr>\n",
       "      <th>1</th>\n",
       "      <td>1.0</td>\n",
       "      <td>MALE</td>\n",
       "      <td>44.0</td>\n",
       "      <td>1.0</td>\n",
       "      <td>28.0</td>\n",
       "      <td>0.0</td>\n",
       "      <td>&gt; 2 YEARS</td>\n",
       "      <td>YES</td>\n",
       "    </tr>\n",
       "    <tr>\n",
       "      <th>2</th>\n",
       "      <td>2.0</td>\n",
       "      <td>MALE</td>\n",
       "      <td>76.0</td>\n",
       "      <td>1.0</td>\n",
       "      <td>3.0</td>\n",
       "      <td>0.0</td>\n",
       "      <td>1-2 YEAR</td>\n",
       "      <td>NO</td>\n",
       "    </tr>\n",
       "    <tr>\n",
       "      <th>3</th>\n",
       "      <td>3.0</td>\n",
       "      <td>MALE</td>\n",
       "      <td>47.0</td>\n",
       "      <td>1.0</td>\n",
       "      <td>28.0</td>\n",
       "      <td>0.0</td>\n",
       "      <td>&gt; 2 YEARS</td>\n",
       "      <td>YES</td>\n",
       "    </tr>\n",
       "    <tr>\n",
       "      <th>4</th>\n",
       "      <td>4.0</td>\n",
       "      <td>MALE</td>\n",
       "      <td>21.0</td>\n",
       "      <td>1.0</td>\n",
       "      <td>11.0</td>\n",
       "      <td>1.0</td>\n",
       "      <td>&lt; 1 YEAR</td>\n",
       "      <td>NO</td>\n",
       "    </tr>\n",
       "    <tr>\n",
       "      <th>5</th>\n",
       "      <td>5.0</td>\n",
       "      <td>FEMALE</td>\n",
       "      <td>29.0</td>\n",
       "      <td>1.0</td>\n",
       "      <td>41.0</td>\n",
       "      <td>1.0</td>\n",
       "      <td>&lt; 1 YEAR</td>\n",
       "      <td>NO</td>\n",
       "    </tr>\n",
       "    <tr>\n",
       "      <th>...</th>\n",
       "      <td>...</td>\n",
       "      <td>...</td>\n",
       "      <td>...</td>\n",
       "      <td>...</td>\n",
       "      <td>...</td>\n",
       "      <td>...</td>\n",
       "      <td>...</td>\n",
       "      <td>...</td>\n",
       "    </tr>\n",
       "    <tr>\n",
       "      <th>381105</th>\n",
       "      <td>381105.0</td>\n",
       "      <td>MALE</td>\n",
       "      <td>74.0</td>\n",
       "      <td>1.0</td>\n",
       "      <td>26.0</td>\n",
       "      <td>1.0</td>\n",
       "      <td>1-2 YEAR</td>\n",
       "      <td>NO</td>\n",
       "    </tr>\n",
       "    <tr>\n",
       "      <th>381106</th>\n",
       "      <td>381106.0</td>\n",
       "      <td>MALE</td>\n",
       "      <td>30.0</td>\n",
       "      <td>1.0</td>\n",
       "      <td>37.0</td>\n",
       "      <td>1.0</td>\n",
       "      <td>&lt; 1 YEAR</td>\n",
       "      <td>NO</td>\n",
       "    </tr>\n",
       "    <tr>\n",
       "      <th>381107</th>\n",
       "      <td>381107.0</td>\n",
       "      <td>MALE</td>\n",
       "      <td>21.0</td>\n",
       "      <td>1.0</td>\n",
       "      <td>30.0</td>\n",
       "      <td>1.0</td>\n",
       "      <td>&lt; 1 YEAR</td>\n",
       "      <td>NO</td>\n",
       "    </tr>\n",
       "    <tr>\n",
       "      <th>381108</th>\n",
       "      <td>381108.0</td>\n",
       "      <td>FEMALE</td>\n",
       "      <td>68.0</td>\n",
       "      <td>1.0</td>\n",
       "      <td>14.0</td>\n",
       "      <td>0.0</td>\n",
       "      <td>&gt; 2 YEARS</td>\n",
       "      <td>YES</td>\n",
       "    </tr>\n",
       "    <tr>\n",
       "      <th>381109</th>\n",
       "      <td>381109.0</td>\n",
       "      <td>MALE</td>\n",
       "      <td>46.0</td>\n",
       "      <td>1.0</td>\n",
       "      <td>29.0</td>\n",
       "      <td>0.0</td>\n",
       "      <td>1-2 YEAR</td>\n",
       "      <td>NO</td>\n",
       "    </tr>\n",
       "  </tbody>\n",
       "</table>\n",
       "<p>380723 rows × 8 columns</p>\n",
       "</div>"
      ],
      "text/plain": [
       "       customer_id  gender   age driving_license_present region_code  \\\n",
       "1              1.0    MALE  44.0                     1.0        28.0   \n",
       "2              2.0    MALE  76.0                     1.0         3.0   \n",
       "3              3.0    MALE  47.0                     1.0        28.0   \n",
       "4              4.0    MALE  21.0                     1.0        11.0   \n",
       "5              5.0  FEMALE  29.0                     1.0        41.0   \n",
       "...            ...     ...   ...                     ...         ...   \n",
       "381105    381105.0    MALE  74.0                     1.0        26.0   \n",
       "381106    381106.0    MALE  30.0                     1.0        37.0   \n",
       "381107    381107.0    MALE  21.0                     1.0        30.0   \n",
       "381108    381108.0  FEMALE  68.0                     1.0        14.0   \n",
       "381109    381109.0    MALE  46.0                     1.0        29.0   \n",
       "\n",
       "       previously_insured vehicle_age vehicle_damage  \n",
       "1                     0.0   > 2 YEARS            YES  \n",
       "2                     0.0    1-2 YEAR             NO  \n",
       "3                     0.0   > 2 YEARS            YES  \n",
       "4                     1.0    < 1 YEAR             NO  \n",
       "5                     1.0    < 1 YEAR             NO  \n",
       "...                   ...         ...            ...  \n",
       "381105                1.0    1-2 YEAR             NO  \n",
       "381106                1.0    < 1 YEAR             NO  \n",
       "381107                1.0    < 1 YEAR             NO  \n",
       "381108                0.0   > 2 YEARS            YES  \n",
       "381109                0.0    1-2 YEAR             NO  \n",
       "\n",
       "[380723 rows x 8 columns]"
      ]
     },
     "execution_count": 40,
     "metadata": {},
     "output_type": "execute_result"
    }
   ],
   "source": [
    "customer_details.apply(lambda x: x.astype(str).str.upper())"
   ]
  },
  {
   "cell_type": "markdown",
   "id": "da313ddd",
   "metadata": {},
   "source": [
    "## Convert nominal data (categorical) into dummies"
   ]
  },
  {
   "cell_type": "code",
   "execution_count": 41,
   "id": "c1c591af",
   "metadata": {},
   "outputs": [
    {
     "data": {
      "text/html": [
       "<div>\n",
       "<style scoped>\n",
       "    .dataframe tbody tr th:only-of-type {\n",
       "        vertical-align: middle;\n",
       "    }\n",
       "\n",
       "    .dataframe tbody tr th {\n",
       "        vertical-align: top;\n",
       "    }\n",
       "\n",
       "    .dataframe thead th {\n",
       "        text-align: right;\n",
       "    }\n",
       "</style>\n",
       "<table border=\"1\" class=\"dataframe\">\n",
       "  <thead>\n",
       "    <tr style=\"text-align: right;\">\n",
       "      <th></th>\n",
       "      <th>customer_id</th>\n",
       "      <th>age</th>\n",
       "      <th>driving_license_present</th>\n",
       "      <th>region_code</th>\n",
       "      <th>previously_insured</th>\n",
       "      <th>gender_Female</th>\n",
       "      <th>gender_Male</th>\n",
       "      <th>vehicle_age_1-2 Year</th>\n",
       "      <th>vehicle_age_&lt; 1 Year</th>\n",
       "      <th>vehicle_age_&gt; 2 Years</th>\n",
       "      <th>vehicle_damage_No</th>\n",
       "      <th>vehicle_damage_Yes</th>\n",
       "    </tr>\n",
       "  </thead>\n",
       "  <tbody>\n",
       "    <tr>\n",
       "      <th>1</th>\n",
       "      <td>1.0</td>\n",
       "      <td>44.0</td>\n",
       "      <td>1.0</td>\n",
       "      <td>28.0</td>\n",
       "      <td>0.0</td>\n",
       "      <td>0</td>\n",
       "      <td>1</td>\n",
       "      <td>0</td>\n",
       "      <td>0</td>\n",
       "      <td>1</td>\n",
       "      <td>0</td>\n",
       "      <td>1</td>\n",
       "    </tr>\n",
       "    <tr>\n",
       "      <th>2</th>\n",
       "      <td>2.0</td>\n",
       "      <td>76.0</td>\n",
       "      <td>1.0</td>\n",
       "      <td>3.0</td>\n",
       "      <td>0.0</td>\n",
       "      <td>0</td>\n",
       "      <td>1</td>\n",
       "      <td>1</td>\n",
       "      <td>0</td>\n",
       "      <td>0</td>\n",
       "      <td>1</td>\n",
       "      <td>0</td>\n",
       "    </tr>\n",
       "    <tr>\n",
       "      <th>3</th>\n",
       "      <td>3.0</td>\n",
       "      <td>47.0</td>\n",
       "      <td>1.0</td>\n",
       "      <td>28.0</td>\n",
       "      <td>0.0</td>\n",
       "      <td>0</td>\n",
       "      <td>1</td>\n",
       "      <td>0</td>\n",
       "      <td>0</td>\n",
       "      <td>1</td>\n",
       "      <td>0</td>\n",
       "      <td>1</td>\n",
       "    </tr>\n",
       "    <tr>\n",
       "      <th>4</th>\n",
       "      <td>4.0</td>\n",
       "      <td>21.0</td>\n",
       "      <td>1.0</td>\n",
       "      <td>11.0</td>\n",
       "      <td>1.0</td>\n",
       "      <td>0</td>\n",
       "      <td>1</td>\n",
       "      <td>0</td>\n",
       "      <td>1</td>\n",
       "      <td>0</td>\n",
       "      <td>1</td>\n",
       "      <td>0</td>\n",
       "    </tr>\n",
       "    <tr>\n",
       "      <th>5</th>\n",
       "      <td>5.0</td>\n",
       "      <td>29.0</td>\n",
       "      <td>1.0</td>\n",
       "      <td>41.0</td>\n",
       "      <td>1.0</td>\n",
       "      <td>1</td>\n",
       "      <td>0</td>\n",
       "      <td>0</td>\n",
       "      <td>1</td>\n",
       "      <td>0</td>\n",
       "      <td>1</td>\n",
       "      <td>0</td>\n",
       "    </tr>\n",
       "    <tr>\n",
       "      <th>...</th>\n",
       "      <td>...</td>\n",
       "      <td>...</td>\n",
       "      <td>...</td>\n",
       "      <td>...</td>\n",
       "      <td>...</td>\n",
       "      <td>...</td>\n",
       "      <td>...</td>\n",
       "      <td>...</td>\n",
       "      <td>...</td>\n",
       "      <td>...</td>\n",
       "      <td>...</td>\n",
       "      <td>...</td>\n",
       "    </tr>\n",
       "    <tr>\n",
       "      <th>381105</th>\n",
       "      <td>381105.0</td>\n",
       "      <td>74.0</td>\n",
       "      <td>1.0</td>\n",
       "      <td>26.0</td>\n",
       "      <td>1.0</td>\n",
       "      <td>0</td>\n",
       "      <td>1</td>\n",
       "      <td>1</td>\n",
       "      <td>0</td>\n",
       "      <td>0</td>\n",
       "      <td>1</td>\n",
       "      <td>0</td>\n",
       "    </tr>\n",
       "    <tr>\n",
       "      <th>381106</th>\n",
       "      <td>381106.0</td>\n",
       "      <td>30.0</td>\n",
       "      <td>1.0</td>\n",
       "      <td>37.0</td>\n",
       "      <td>1.0</td>\n",
       "      <td>0</td>\n",
       "      <td>1</td>\n",
       "      <td>0</td>\n",
       "      <td>1</td>\n",
       "      <td>0</td>\n",
       "      <td>1</td>\n",
       "      <td>0</td>\n",
       "    </tr>\n",
       "    <tr>\n",
       "      <th>381107</th>\n",
       "      <td>381107.0</td>\n",
       "      <td>21.0</td>\n",
       "      <td>1.0</td>\n",
       "      <td>30.0</td>\n",
       "      <td>1.0</td>\n",
       "      <td>0</td>\n",
       "      <td>1</td>\n",
       "      <td>0</td>\n",
       "      <td>1</td>\n",
       "      <td>0</td>\n",
       "      <td>1</td>\n",
       "      <td>0</td>\n",
       "    </tr>\n",
       "    <tr>\n",
       "      <th>381108</th>\n",
       "      <td>381108.0</td>\n",
       "      <td>68.0</td>\n",
       "      <td>1.0</td>\n",
       "      <td>14.0</td>\n",
       "      <td>0.0</td>\n",
       "      <td>1</td>\n",
       "      <td>0</td>\n",
       "      <td>0</td>\n",
       "      <td>0</td>\n",
       "      <td>1</td>\n",
       "      <td>0</td>\n",
       "      <td>1</td>\n",
       "    </tr>\n",
       "    <tr>\n",
       "      <th>381109</th>\n",
       "      <td>381109.0</td>\n",
       "      <td>46.0</td>\n",
       "      <td>1.0</td>\n",
       "      <td>29.0</td>\n",
       "      <td>0.0</td>\n",
       "      <td>0</td>\n",
       "      <td>1</td>\n",
       "      <td>1</td>\n",
       "      <td>0</td>\n",
       "      <td>0</td>\n",
       "      <td>1</td>\n",
       "      <td>0</td>\n",
       "    </tr>\n",
       "  </tbody>\n",
       "</table>\n",
       "<p>380723 rows × 12 columns</p>\n",
       "</div>"
      ],
      "text/plain": [
       "        customer_id   age  driving_license_present  region_code  \\\n",
       "1               1.0  44.0                      1.0         28.0   \n",
       "2               2.0  76.0                      1.0          3.0   \n",
       "3               3.0  47.0                      1.0         28.0   \n",
       "4               4.0  21.0                      1.0         11.0   \n",
       "5               5.0  29.0                      1.0         41.0   \n",
       "...             ...   ...                      ...          ...   \n",
       "381105     381105.0  74.0                      1.0         26.0   \n",
       "381106     381106.0  30.0                      1.0         37.0   \n",
       "381107     381107.0  21.0                      1.0         30.0   \n",
       "381108     381108.0  68.0                      1.0         14.0   \n",
       "381109     381109.0  46.0                      1.0         29.0   \n",
       "\n",
       "        previously_insured  gender_Female  gender_Male  vehicle_age_1-2 Year  \\\n",
       "1                      0.0              0            1                     0   \n",
       "2                      0.0              0            1                     1   \n",
       "3                      0.0              0            1                     0   \n",
       "4                      1.0              0            1                     0   \n",
       "5                      1.0              1            0                     0   \n",
       "...                    ...            ...          ...                   ...   \n",
       "381105                 1.0              0            1                     1   \n",
       "381106                 1.0              0            1                     0   \n",
       "381107                 1.0              0            1                     0   \n",
       "381108                 0.0              1            0                     0   \n",
       "381109                 0.0              0            1                     1   \n",
       "\n",
       "        vehicle_age_< 1 Year  vehicle_age_> 2 Years  vehicle_damage_No  \\\n",
       "1                          0                      1                  0   \n",
       "2                          0                      0                  1   \n",
       "3                          0                      1                  0   \n",
       "4                          1                      0                  1   \n",
       "5                          1                      0                  1   \n",
       "...                      ...                    ...                ...   \n",
       "381105                     0                      0                  1   \n",
       "381106                     1                      0                  1   \n",
       "381107                     1                      0                  1   \n",
       "381108                     0                      1                  0   \n",
       "381109                     0                      0                  1   \n",
       "\n",
       "        vehicle_damage_Yes  \n",
       "1                        1  \n",
       "2                        0  \n",
       "3                        1  \n",
       "4                        0  \n",
       "5                        0  \n",
       "...                    ...  \n",
       "381105                   0  \n",
       "381106                   0  \n",
       "381107                   0  \n",
       "381108                   1  \n",
       "381109                   0  \n",
       "\n",
       "[380723 rows x 12 columns]"
      ]
     },
     "execution_count": 41,
     "metadata": {},
     "output_type": "execute_result"
    }
   ],
   "source": [
    "pd.get_dummies(customer_details)"
   ]
  },
  {
   "cell_type": "code",
   "execution_count": 42,
   "id": "fa9a808e",
   "metadata": {},
   "outputs": [
    {
     "data": {
      "text/html": [
       "<div>\n",
       "<style scoped>\n",
       "    .dataframe tbody tr th:only-of-type {\n",
       "        vertical-align: middle;\n",
       "    }\n",
       "\n",
       "    .dataframe tbody tr th {\n",
       "        vertical-align: top;\n",
       "    }\n",
       "\n",
       "    .dataframe thead th {\n",
       "        text-align: right;\n",
       "    }\n",
       "</style>\n",
       "<table border=\"1\" class=\"dataframe\">\n",
       "  <thead>\n",
       "    <tr style=\"text-align: right;\">\n",
       "      <th></th>\n",
       "      <th>customer_id</th>\n",
       "      <th>annual premium (in Rs)</th>\n",
       "      <th>sales channel code</th>\n",
       "      <th>vintage</th>\n",
       "      <th>response</th>\n",
       "    </tr>\n",
       "  </thead>\n",
       "  <tbody>\n",
       "    <tr>\n",
       "      <th>1</th>\n",
       "      <td>1.0</td>\n",
       "      <td>40454.0</td>\n",
       "      <td>26.0</td>\n",
       "      <td>217.0</td>\n",
       "      <td>1.0</td>\n",
       "    </tr>\n",
       "    <tr>\n",
       "      <th>2</th>\n",
       "      <td>2.0</td>\n",
       "      <td>33536.0</td>\n",
       "      <td>26.0</td>\n",
       "      <td>183.0</td>\n",
       "      <td>0.0</td>\n",
       "    </tr>\n",
       "    <tr>\n",
       "      <th>3</th>\n",
       "      <td>3.0</td>\n",
       "      <td>38294.0</td>\n",
       "      <td>26.0</td>\n",
       "      <td>27.0</td>\n",
       "      <td>1.0</td>\n",
       "    </tr>\n",
       "    <tr>\n",
       "      <th>4</th>\n",
       "      <td>4.0</td>\n",
       "      <td>28619.0</td>\n",
       "      <td>152.0</td>\n",
       "      <td>203.0</td>\n",
       "      <td>0.0</td>\n",
       "    </tr>\n",
       "    <tr>\n",
       "      <th>5</th>\n",
       "      <td>5.0</td>\n",
       "      <td>27496.0</td>\n",
       "      <td>152.0</td>\n",
       "      <td>39.0</td>\n",
       "      <td>0.0</td>\n",
       "    </tr>\n",
       "    <tr>\n",
       "      <th>...</th>\n",
       "      <td>...</td>\n",
       "      <td>...</td>\n",
       "      <td>...</td>\n",
       "      <td>...</td>\n",
       "      <td>...</td>\n",
       "    </tr>\n",
       "    <tr>\n",
       "      <th>381105</th>\n",
       "      <td>381105.0</td>\n",
       "      <td>30170.0</td>\n",
       "      <td>26.0</td>\n",
       "      <td>88.0</td>\n",
       "      <td>0.0</td>\n",
       "    </tr>\n",
       "    <tr>\n",
       "      <th>381106</th>\n",
       "      <td>381106.0</td>\n",
       "      <td>40016.0</td>\n",
       "      <td>152.0</td>\n",
       "      <td>131.0</td>\n",
       "      <td>0.0</td>\n",
       "    </tr>\n",
       "    <tr>\n",
       "      <th>381107</th>\n",
       "      <td>381107.0</td>\n",
       "      <td>35118.0</td>\n",
       "      <td>160.0</td>\n",
       "      <td>161.0</td>\n",
       "      <td>0.0</td>\n",
       "    </tr>\n",
       "    <tr>\n",
       "      <th>381108</th>\n",
       "      <td>381108.0</td>\n",
       "      <td>44617.0</td>\n",
       "      <td>124.0</td>\n",
       "      <td>74.0</td>\n",
       "      <td>0.0</td>\n",
       "    </tr>\n",
       "    <tr>\n",
       "      <th>381109</th>\n",
       "      <td>381109.0</td>\n",
       "      <td>41777.0</td>\n",
       "      <td>26.0</td>\n",
       "      <td>237.0</td>\n",
       "      <td>0.0</td>\n",
       "    </tr>\n",
       "  </tbody>\n",
       "</table>\n",
       "<p>380722 rows × 5 columns</p>\n",
       "</div>"
      ],
      "text/plain": [
       "        customer_id  annual premium (in Rs)  sales channel code  vintage  \\\n",
       "1               1.0                 40454.0                26.0    217.0   \n",
       "2               2.0                 33536.0                26.0    183.0   \n",
       "3               3.0                 38294.0                26.0     27.0   \n",
       "4               4.0                 28619.0               152.0    203.0   \n",
       "5               5.0                 27496.0               152.0     39.0   \n",
       "...             ...                     ...                 ...      ...   \n",
       "381105     381105.0                 30170.0                26.0     88.0   \n",
       "381106     381106.0                 40016.0               152.0    131.0   \n",
       "381107     381107.0                 35118.0               160.0    161.0   \n",
       "381108     381108.0                 44617.0               124.0     74.0   \n",
       "381109     381109.0                 41777.0                26.0    237.0   \n",
       "\n",
       "         response  \n",
       "1             1.0  \n",
       "2             0.0  \n",
       "3             1.0  \n",
       "4             0.0  \n",
       "5             0.0  \n",
       "...           ...  \n",
       "381105        0.0  \n",
       "381106        0.0  \n",
       "381107        0.0  \n",
       "381108        0.0  \n",
       "381109        0.0  \n",
       "\n",
       "[380722 rows x 5 columns]"
      ]
     },
     "execution_count": 42,
     "metadata": {},
     "output_type": "execute_result"
    }
   ],
   "source": [
    "pd.get_dummies(customer_policy_details)"
   ]
  },
  {
   "cell_type": "markdown",
   "id": "926ccfed",
   "metadata": {},
   "source": [
    "## Drop Duplicates (duplicated rows)"
   ]
  },
  {
   "cell_type": "code",
   "execution_count": 43,
   "id": "6a760890",
   "metadata": {},
   "outputs": [
    {
     "data": {
      "text/html": [
       "<div>\n",
       "<style scoped>\n",
       "    .dataframe tbody tr th:only-of-type {\n",
       "        vertical-align: middle;\n",
       "    }\n",
       "\n",
       "    .dataframe tbody tr th {\n",
       "        vertical-align: top;\n",
       "    }\n",
       "\n",
       "    .dataframe thead th {\n",
       "        text-align: right;\n",
       "    }\n",
       "</style>\n",
       "<table border=\"1\" class=\"dataframe\">\n",
       "  <thead>\n",
       "    <tr style=\"text-align: right;\">\n",
       "      <th></th>\n",
       "      <th>customer_id</th>\n",
       "      <th>gender</th>\n",
       "      <th>age</th>\n",
       "      <th>driving_license_present</th>\n",
       "      <th>region_code</th>\n",
       "      <th>previously_insured</th>\n",
       "      <th>vehicle_age</th>\n",
       "      <th>vehicle_damage</th>\n",
       "    </tr>\n",
       "  </thead>\n",
       "  <tbody>\n",
       "    <tr>\n",
       "      <th>1</th>\n",
       "      <td>1.0</td>\n",
       "      <td>Male</td>\n",
       "      <td>44.0</td>\n",
       "      <td>1.0</td>\n",
       "      <td>28.0</td>\n",
       "      <td>0.0</td>\n",
       "      <td>&gt; 2 Years</td>\n",
       "      <td>Yes</td>\n",
       "    </tr>\n",
       "    <tr>\n",
       "      <th>2</th>\n",
       "      <td>2.0</td>\n",
       "      <td>Male</td>\n",
       "      <td>76.0</td>\n",
       "      <td>1.0</td>\n",
       "      <td>3.0</td>\n",
       "      <td>0.0</td>\n",
       "      <td>1-2 Year</td>\n",
       "      <td>No</td>\n",
       "    </tr>\n",
       "    <tr>\n",
       "      <th>3</th>\n",
       "      <td>3.0</td>\n",
       "      <td>Male</td>\n",
       "      <td>47.0</td>\n",
       "      <td>1.0</td>\n",
       "      <td>28.0</td>\n",
       "      <td>0.0</td>\n",
       "      <td>&gt; 2 Years</td>\n",
       "      <td>Yes</td>\n",
       "    </tr>\n",
       "    <tr>\n",
       "      <th>4</th>\n",
       "      <td>4.0</td>\n",
       "      <td>Male</td>\n",
       "      <td>21.0</td>\n",
       "      <td>1.0</td>\n",
       "      <td>11.0</td>\n",
       "      <td>1.0</td>\n",
       "      <td>&lt; 1 Year</td>\n",
       "      <td>No</td>\n",
       "    </tr>\n",
       "    <tr>\n",
       "      <th>5</th>\n",
       "      <td>5.0</td>\n",
       "      <td>Female</td>\n",
       "      <td>29.0</td>\n",
       "      <td>1.0</td>\n",
       "      <td>41.0</td>\n",
       "      <td>1.0</td>\n",
       "      <td>&lt; 1 Year</td>\n",
       "      <td>No</td>\n",
       "    </tr>\n",
       "    <tr>\n",
       "      <th>...</th>\n",
       "      <td>...</td>\n",
       "      <td>...</td>\n",
       "      <td>...</td>\n",
       "      <td>...</td>\n",
       "      <td>...</td>\n",
       "      <td>...</td>\n",
       "      <td>...</td>\n",
       "      <td>...</td>\n",
       "    </tr>\n",
       "    <tr>\n",
       "      <th>381105</th>\n",
       "      <td>381105.0</td>\n",
       "      <td>Male</td>\n",
       "      <td>74.0</td>\n",
       "      <td>1.0</td>\n",
       "      <td>26.0</td>\n",
       "      <td>1.0</td>\n",
       "      <td>1-2 Year</td>\n",
       "      <td>No</td>\n",
       "    </tr>\n",
       "    <tr>\n",
       "      <th>381106</th>\n",
       "      <td>381106.0</td>\n",
       "      <td>Male</td>\n",
       "      <td>30.0</td>\n",
       "      <td>1.0</td>\n",
       "      <td>37.0</td>\n",
       "      <td>1.0</td>\n",
       "      <td>&lt; 1 Year</td>\n",
       "      <td>No</td>\n",
       "    </tr>\n",
       "    <tr>\n",
       "      <th>381107</th>\n",
       "      <td>381107.0</td>\n",
       "      <td>Male</td>\n",
       "      <td>21.0</td>\n",
       "      <td>1.0</td>\n",
       "      <td>30.0</td>\n",
       "      <td>1.0</td>\n",
       "      <td>&lt; 1 Year</td>\n",
       "      <td>No</td>\n",
       "    </tr>\n",
       "    <tr>\n",
       "      <th>381108</th>\n",
       "      <td>381108.0</td>\n",
       "      <td>Female</td>\n",
       "      <td>68.0</td>\n",
       "      <td>1.0</td>\n",
       "      <td>14.0</td>\n",
       "      <td>0.0</td>\n",
       "      <td>&gt; 2 Years</td>\n",
       "      <td>Yes</td>\n",
       "    </tr>\n",
       "    <tr>\n",
       "      <th>381109</th>\n",
       "      <td>381109.0</td>\n",
       "      <td>Male</td>\n",
       "      <td>46.0</td>\n",
       "      <td>1.0</td>\n",
       "      <td>29.0</td>\n",
       "      <td>0.0</td>\n",
       "      <td>1-2 Year</td>\n",
       "      <td>No</td>\n",
       "    </tr>\n",
       "  </tbody>\n",
       "</table>\n",
       "<p>380723 rows × 8 columns</p>\n",
       "</div>"
      ],
      "text/plain": [
       "        customer_id  gender   age  driving_license_present  region_code  \\\n",
       "1               1.0    Male  44.0                      1.0         28.0   \n",
       "2               2.0    Male  76.0                      1.0          3.0   \n",
       "3               3.0    Male  47.0                      1.0         28.0   \n",
       "4               4.0    Male  21.0                      1.0         11.0   \n",
       "5               5.0  Female  29.0                      1.0         41.0   \n",
       "...             ...     ...   ...                      ...          ...   \n",
       "381105     381105.0    Male  74.0                      1.0         26.0   \n",
       "381106     381106.0    Male  30.0                      1.0         37.0   \n",
       "381107     381107.0    Male  21.0                      1.0         30.0   \n",
       "381108     381108.0  Female  68.0                      1.0         14.0   \n",
       "381109     381109.0    Male  46.0                      1.0         29.0   \n",
       "\n",
       "        previously_insured vehicle_age vehicle_damage  \n",
       "1                      0.0   > 2 Years            Yes  \n",
       "2                      0.0    1-2 Year             No  \n",
       "3                      0.0   > 2 Years            Yes  \n",
       "4                      1.0    < 1 Year             No  \n",
       "5                      1.0    < 1 Year             No  \n",
       "...                    ...         ...            ...  \n",
       "381105                 1.0    1-2 Year             No  \n",
       "381106                 1.0    < 1 Year             No  \n",
       "381107                 1.0    < 1 Year             No  \n",
       "381108                 0.0   > 2 Years            Yes  \n",
       "381109                 0.0    1-2 Year             No  \n",
       "\n",
       "[380723 rows x 8 columns]"
      ]
     },
     "execution_count": 43,
     "metadata": {},
     "output_type": "execute_result"
    }
   ],
   "source": [
    "customer_details.drop_duplicates()"
   ]
  },
  {
   "cell_type": "code",
   "execution_count": 44,
   "id": "10c3f7d3",
   "metadata": {},
   "outputs": [
    {
     "data": {
      "text/html": [
       "<div>\n",
       "<style scoped>\n",
       "    .dataframe tbody tr th:only-of-type {\n",
       "        vertical-align: middle;\n",
       "    }\n",
       "\n",
       "    .dataframe tbody tr th {\n",
       "        vertical-align: top;\n",
       "    }\n",
       "\n",
       "    .dataframe thead th {\n",
       "        text-align: right;\n",
       "    }\n",
       "</style>\n",
       "<table border=\"1\" class=\"dataframe\">\n",
       "  <thead>\n",
       "    <tr style=\"text-align: right;\">\n",
       "      <th></th>\n",
       "      <th>customer_id</th>\n",
       "      <th>annual premium (in Rs)</th>\n",
       "      <th>sales channel code</th>\n",
       "      <th>vintage</th>\n",
       "      <th>response</th>\n",
       "    </tr>\n",
       "  </thead>\n",
       "  <tbody>\n",
       "    <tr>\n",
       "      <th>1</th>\n",
       "      <td>1.0</td>\n",
       "      <td>40454.0</td>\n",
       "      <td>26.0</td>\n",
       "      <td>217.0</td>\n",
       "      <td>1.0</td>\n",
       "    </tr>\n",
       "    <tr>\n",
       "      <th>2</th>\n",
       "      <td>2.0</td>\n",
       "      <td>33536.0</td>\n",
       "      <td>26.0</td>\n",
       "      <td>183.0</td>\n",
       "      <td>0.0</td>\n",
       "    </tr>\n",
       "    <tr>\n",
       "      <th>3</th>\n",
       "      <td>3.0</td>\n",
       "      <td>38294.0</td>\n",
       "      <td>26.0</td>\n",
       "      <td>27.0</td>\n",
       "      <td>1.0</td>\n",
       "    </tr>\n",
       "    <tr>\n",
       "      <th>4</th>\n",
       "      <td>4.0</td>\n",
       "      <td>28619.0</td>\n",
       "      <td>152.0</td>\n",
       "      <td>203.0</td>\n",
       "      <td>0.0</td>\n",
       "    </tr>\n",
       "    <tr>\n",
       "      <th>5</th>\n",
       "      <td>5.0</td>\n",
       "      <td>27496.0</td>\n",
       "      <td>152.0</td>\n",
       "      <td>39.0</td>\n",
       "      <td>0.0</td>\n",
       "    </tr>\n",
       "    <tr>\n",
       "      <th>...</th>\n",
       "      <td>...</td>\n",
       "      <td>...</td>\n",
       "      <td>...</td>\n",
       "      <td>...</td>\n",
       "      <td>...</td>\n",
       "    </tr>\n",
       "    <tr>\n",
       "      <th>381105</th>\n",
       "      <td>381105.0</td>\n",
       "      <td>30170.0</td>\n",
       "      <td>26.0</td>\n",
       "      <td>88.0</td>\n",
       "      <td>0.0</td>\n",
       "    </tr>\n",
       "    <tr>\n",
       "      <th>381106</th>\n",
       "      <td>381106.0</td>\n",
       "      <td>40016.0</td>\n",
       "      <td>152.0</td>\n",
       "      <td>131.0</td>\n",
       "      <td>0.0</td>\n",
       "    </tr>\n",
       "    <tr>\n",
       "      <th>381107</th>\n",
       "      <td>381107.0</td>\n",
       "      <td>35118.0</td>\n",
       "      <td>160.0</td>\n",
       "      <td>161.0</td>\n",
       "      <td>0.0</td>\n",
       "    </tr>\n",
       "    <tr>\n",
       "      <th>381108</th>\n",
       "      <td>381108.0</td>\n",
       "      <td>44617.0</td>\n",
       "      <td>124.0</td>\n",
       "      <td>74.0</td>\n",
       "      <td>0.0</td>\n",
       "    </tr>\n",
       "    <tr>\n",
       "      <th>381109</th>\n",
       "      <td>381109.0</td>\n",
       "      <td>41777.0</td>\n",
       "      <td>26.0</td>\n",
       "      <td>237.0</td>\n",
       "      <td>0.0</td>\n",
       "    </tr>\n",
       "  </tbody>\n",
       "</table>\n",
       "<p>380722 rows × 5 columns</p>\n",
       "</div>"
      ],
      "text/plain": [
       "        customer_id  annual premium (in Rs)  sales channel code  vintage  \\\n",
       "1               1.0                 40454.0                26.0    217.0   \n",
       "2               2.0                 33536.0                26.0    183.0   \n",
       "3               3.0                 38294.0                26.0     27.0   \n",
       "4               4.0                 28619.0               152.0    203.0   \n",
       "5               5.0                 27496.0               152.0     39.0   \n",
       "...             ...                     ...                 ...      ...   \n",
       "381105     381105.0                 30170.0                26.0     88.0   \n",
       "381106     381106.0                 40016.0               152.0    131.0   \n",
       "381107     381107.0                 35118.0               160.0    161.0   \n",
       "381108     381108.0                 44617.0               124.0     74.0   \n",
       "381109     381109.0                 41777.0                26.0    237.0   \n",
       "\n",
       "         response  \n",
       "1             1.0  \n",
       "2             0.0  \n",
       "3             1.0  \n",
       "4             0.0  \n",
       "5             0.0  \n",
       "...           ...  \n",
       "381105        0.0  \n",
       "381106        0.0  \n",
       "381107        0.0  \n",
       "381108        0.0  \n",
       "381109        0.0  \n",
       "\n",
       "[380722 rows x 5 columns]"
      ]
     },
     "execution_count": 44,
     "metadata": {},
     "output_type": "execute_result"
    }
   ],
   "source": [
    "customer_policy_details.drop_duplicates()"
   ]
  },
  {
   "cell_type": "code",
   "execution_count": null,
   "id": "83f416d9",
   "metadata": {},
   "outputs": [],
   "source": []
  },
  {
   "cell_type": "markdown",
   "id": "c74c6018",
   "metadata": {},
   "source": [
    "## 3.Create a Master table for future use. Join the customer table and customer_policy table to get a master table using customer_id in both tables.\n",
    "\n",
    "## (Hint: use pd.merge() function)"
   ]
  },
  {
   "cell_type": "code",
   "execution_count": 45,
   "id": "95139525",
   "metadata": {},
   "outputs": [
    {
     "data": {
      "text/html": [
       "<div>\n",
       "<style scoped>\n",
       "    .dataframe tbody tr th:only-of-type {\n",
       "        vertical-align: middle;\n",
       "    }\n",
       "\n",
       "    .dataframe tbody tr th {\n",
       "        vertical-align: top;\n",
       "    }\n",
       "\n",
       "    .dataframe thead th {\n",
       "        text-align: right;\n",
       "    }\n",
       "</style>\n",
       "<table border=\"1\" class=\"dataframe\">\n",
       "  <thead>\n",
       "    <tr style=\"text-align: right;\">\n",
       "      <th></th>\n",
       "      <th>customer_id</th>\n",
       "      <th>gender</th>\n",
       "      <th>age</th>\n",
       "      <th>driving_license_present</th>\n",
       "      <th>region_code</th>\n",
       "      <th>previously_insured</th>\n",
       "      <th>vehicle_age</th>\n",
       "      <th>vehicle_damage</th>\n",
       "      <th>annual premium (in Rs)</th>\n",
       "      <th>sales channel code</th>\n",
       "      <th>vintage</th>\n",
       "      <th>response</th>\n",
       "    </tr>\n",
       "  </thead>\n",
       "  <tbody>\n",
       "    <tr>\n",
       "      <th>0</th>\n",
       "      <td>1.0</td>\n",
       "      <td>Male</td>\n",
       "      <td>44.0</td>\n",
       "      <td>1.0</td>\n",
       "      <td>28.0</td>\n",
       "      <td>0.0</td>\n",
       "      <td>&gt; 2 Years</td>\n",
       "      <td>Yes</td>\n",
       "      <td>40454.0</td>\n",
       "      <td>26.0</td>\n",
       "      <td>217.0</td>\n",
       "      <td>1.0</td>\n",
       "    </tr>\n",
       "    <tr>\n",
       "      <th>1</th>\n",
       "      <td>2.0</td>\n",
       "      <td>Male</td>\n",
       "      <td>76.0</td>\n",
       "      <td>1.0</td>\n",
       "      <td>3.0</td>\n",
       "      <td>0.0</td>\n",
       "      <td>1-2 Year</td>\n",
       "      <td>No</td>\n",
       "      <td>33536.0</td>\n",
       "      <td>26.0</td>\n",
       "      <td>183.0</td>\n",
       "      <td>0.0</td>\n",
       "    </tr>\n",
       "    <tr>\n",
       "      <th>2</th>\n",
       "      <td>3.0</td>\n",
       "      <td>Male</td>\n",
       "      <td>47.0</td>\n",
       "      <td>1.0</td>\n",
       "      <td>28.0</td>\n",
       "      <td>0.0</td>\n",
       "      <td>&gt; 2 Years</td>\n",
       "      <td>Yes</td>\n",
       "      <td>38294.0</td>\n",
       "      <td>26.0</td>\n",
       "      <td>27.0</td>\n",
       "      <td>1.0</td>\n",
       "    </tr>\n",
       "    <tr>\n",
       "      <th>3</th>\n",
       "      <td>4.0</td>\n",
       "      <td>Male</td>\n",
       "      <td>21.0</td>\n",
       "      <td>1.0</td>\n",
       "      <td>11.0</td>\n",
       "      <td>1.0</td>\n",
       "      <td>&lt; 1 Year</td>\n",
       "      <td>No</td>\n",
       "      <td>28619.0</td>\n",
       "      <td>152.0</td>\n",
       "      <td>203.0</td>\n",
       "      <td>0.0</td>\n",
       "    </tr>\n",
       "    <tr>\n",
       "      <th>4</th>\n",
       "      <td>5.0</td>\n",
       "      <td>Female</td>\n",
       "      <td>29.0</td>\n",
       "      <td>1.0</td>\n",
       "      <td>41.0</td>\n",
       "      <td>1.0</td>\n",
       "      <td>&lt; 1 Year</td>\n",
       "      <td>No</td>\n",
       "      <td>27496.0</td>\n",
       "      <td>152.0</td>\n",
       "      <td>39.0</td>\n",
       "      <td>0.0</td>\n",
       "    </tr>\n",
       "    <tr>\n",
       "      <th>...</th>\n",
       "      <td>...</td>\n",
       "      <td>...</td>\n",
       "      <td>...</td>\n",
       "      <td>...</td>\n",
       "      <td>...</td>\n",
       "      <td>...</td>\n",
       "      <td>...</td>\n",
       "      <td>...</td>\n",
       "      <td>...</td>\n",
       "      <td>...</td>\n",
       "      <td>...</td>\n",
       "      <td>...</td>\n",
       "    </tr>\n",
       "    <tr>\n",
       "      <th>380331</th>\n",
       "      <td>381105.0</td>\n",
       "      <td>Male</td>\n",
       "      <td>74.0</td>\n",
       "      <td>1.0</td>\n",
       "      <td>26.0</td>\n",
       "      <td>1.0</td>\n",
       "      <td>1-2 Year</td>\n",
       "      <td>No</td>\n",
       "      <td>30170.0</td>\n",
       "      <td>26.0</td>\n",
       "      <td>88.0</td>\n",
       "      <td>0.0</td>\n",
       "    </tr>\n",
       "    <tr>\n",
       "      <th>380332</th>\n",
       "      <td>381106.0</td>\n",
       "      <td>Male</td>\n",
       "      <td>30.0</td>\n",
       "      <td>1.0</td>\n",
       "      <td>37.0</td>\n",
       "      <td>1.0</td>\n",
       "      <td>&lt; 1 Year</td>\n",
       "      <td>No</td>\n",
       "      <td>40016.0</td>\n",
       "      <td>152.0</td>\n",
       "      <td>131.0</td>\n",
       "      <td>0.0</td>\n",
       "    </tr>\n",
       "    <tr>\n",
       "      <th>380333</th>\n",
       "      <td>381107.0</td>\n",
       "      <td>Male</td>\n",
       "      <td>21.0</td>\n",
       "      <td>1.0</td>\n",
       "      <td>30.0</td>\n",
       "      <td>1.0</td>\n",
       "      <td>&lt; 1 Year</td>\n",
       "      <td>No</td>\n",
       "      <td>35118.0</td>\n",
       "      <td>160.0</td>\n",
       "      <td>161.0</td>\n",
       "      <td>0.0</td>\n",
       "    </tr>\n",
       "    <tr>\n",
       "      <th>380334</th>\n",
       "      <td>381108.0</td>\n",
       "      <td>Female</td>\n",
       "      <td>68.0</td>\n",
       "      <td>1.0</td>\n",
       "      <td>14.0</td>\n",
       "      <td>0.0</td>\n",
       "      <td>&gt; 2 Years</td>\n",
       "      <td>Yes</td>\n",
       "      <td>44617.0</td>\n",
       "      <td>124.0</td>\n",
       "      <td>74.0</td>\n",
       "      <td>0.0</td>\n",
       "    </tr>\n",
       "    <tr>\n",
       "      <th>380335</th>\n",
       "      <td>381109.0</td>\n",
       "      <td>Male</td>\n",
       "      <td>46.0</td>\n",
       "      <td>1.0</td>\n",
       "      <td>29.0</td>\n",
       "      <td>0.0</td>\n",
       "      <td>1-2 Year</td>\n",
       "      <td>No</td>\n",
       "      <td>41777.0</td>\n",
       "      <td>26.0</td>\n",
       "      <td>237.0</td>\n",
       "      <td>0.0</td>\n",
       "    </tr>\n",
       "  </tbody>\n",
       "</table>\n",
       "<p>380336 rows × 12 columns</p>\n",
       "</div>"
      ],
      "text/plain": [
       "        customer_id  gender   age  driving_license_present  region_code  \\\n",
       "0               1.0    Male  44.0                      1.0         28.0   \n",
       "1               2.0    Male  76.0                      1.0          3.0   \n",
       "2               3.0    Male  47.0                      1.0         28.0   \n",
       "3               4.0    Male  21.0                      1.0         11.0   \n",
       "4               5.0  Female  29.0                      1.0         41.0   \n",
       "...             ...     ...   ...                      ...          ...   \n",
       "380331     381105.0    Male  74.0                      1.0         26.0   \n",
       "380332     381106.0    Male  30.0                      1.0         37.0   \n",
       "380333     381107.0    Male  21.0                      1.0         30.0   \n",
       "380334     381108.0  Female  68.0                      1.0         14.0   \n",
       "380335     381109.0    Male  46.0                      1.0         29.0   \n",
       "\n",
       "        previously_insured vehicle_age vehicle_damage  annual premium (in Rs)  \\\n",
       "0                      0.0   > 2 Years            Yes                 40454.0   \n",
       "1                      0.0    1-2 Year             No                 33536.0   \n",
       "2                      0.0   > 2 Years            Yes                 38294.0   \n",
       "3                      1.0    < 1 Year             No                 28619.0   \n",
       "4                      1.0    < 1 Year             No                 27496.0   \n",
       "...                    ...         ...            ...                     ...   \n",
       "380331                 1.0    1-2 Year             No                 30170.0   \n",
       "380332                 1.0    < 1 Year             No                 40016.0   \n",
       "380333                 1.0    < 1 Year             No                 35118.0   \n",
       "380334                 0.0   > 2 Years            Yes                 44617.0   \n",
       "380335                 0.0    1-2 Year             No                 41777.0   \n",
       "\n",
       "        sales channel code  vintage   response  \n",
       "0                     26.0    217.0        1.0  \n",
       "1                     26.0    183.0        0.0  \n",
       "2                     26.0     27.0        1.0  \n",
       "3                    152.0    203.0        0.0  \n",
       "4                    152.0     39.0        0.0  \n",
       "...                    ...      ...        ...  \n",
       "380331                26.0     88.0        0.0  \n",
       "380332               152.0    131.0        0.0  \n",
       "380333               160.0    161.0        0.0  \n",
       "380334               124.0     74.0        0.0  \n",
       "380335                26.0    237.0        0.0  \n",
       "\n",
       "[380336 rows x 12 columns]"
      ]
     },
     "execution_count": 45,
     "metadata": {},
     "output_type": "execute_result"
    }
   ],
   "source": [
    "master_table=pd.merge(customer_details,customer_policy_details)\n",
    "master_table"
   ]
  },
  {
   "cell_type": "markdown",
   "id": "677aa6f9",
   "metadata": {},
   "source": [
    "## 4. Company needs some important information from the master table to make decisions for future growth.They needs following information:"
   ]
  },
  {
   "cell_type": "markdown",
   "id": "9c0389c0",
   "metadata": {},
   "source": [
    "##  i. Gender wise average annual premium"
   ]
  },
  {
   "cell_type": "code",
   "execution_count": 46,
   "id": "3db39e99",
   "metadata": {},
   "outputs": [
    {
     "data": {
      "text/plain": [
       "gender\n",
       "Female    30505.151882\n",
       "Male      30635.409127\n",
       "Name: annual premium (in Rs), dtype: float64"
      ]
     },
     "execution_count": 46,
     "metadata": {},
     "output_type": "execute_result"
    }
   ],
   "source": [
    "master_table.groupby(['gender'])['annual premium (in Rs)'].mean()"
   ]
  },
  {
   "cell_type": "code",
   "execution_count": 47,
   "id": "2af32ab9",
   "metadata": {},
   "outputs": [
    {
     "data": {
      "text/plain": [
       "age\n",
       "20.0    26940.061164\n",
       "21.0    30573.665891\n",
       "22.0    30837.557285\n",
       "23.0    30698.806695\n",
       "24.0    31194.927275\n",
       "            ...     \n",
       "81.0    31201.571429\n",
       "82.0    37705.379310\n",
       "83.0    31012.727273\n",
       "84.0    35440.818182\n",
       "85.0    29792.363636\n",
       "Name: annual premium (in Rs), Length: 67, dtype: float64"
      ]
     },
     "execution_count": 47,
     "metadata": {},
     "output_type": "execute_result"
    }
   ],
   "source": [
    "master_table.groupby(['age']).mean()['annual premium (in Rs)']"
   ]
  },
  {
   "cell_type": "markdown",
   "id": "1c2123d6",
   "metadata": {},
   "source": [
    "## Is your data balanced between the genders?"
   ]
  },
  {
   "cell_type": "code",
   "execution_count": 48,
   "id": "88d9990c",
   "metadata": {},
   "outputs": [
    {
     "data": {
      "text/plain": [
       "Male      205851\n",
       "Female    174485\n",
       "Name: gender, dtype: int64"
      ]
     },
     "execution_count": 48,
     "metadata": {},
     "output_type": "execute_result"
    }
   ],
   "source": [
    "master_table['gender'].value_counts()"
   ]
  },
  {
   "cell_type": "markdown",
   "id": "6111ea28",
   "metadata": {},
   "source": [
    "##  Vehicle age wise average annual premium."
   ]
  },
  {
   "cell_type": "code",
   "execution_count": 49,
   "id": "89a7fec5",
   "metadata": {},
   "outputs": [
    {
     "data": {
      "text/plain": [
       "vehicle_age\n",
       "1-2 Year     30538.472949\n",
       "< 1 Year     30126.565208\n",
       "> 2 Years    35667.836135\n",
       "Name: annual premium (in Rs), dtype: float64"
      ]
     },
     "execution_count": 49,
     "metadata": {},
     "output_type": "execute_result"
    }
   ],
   "source": [
    "master_table.groupby(['vehicle_age']).mean()['annual premium (in Rs)']"
   ]
  },
  {
   "cell_type": "markdown",
   "id": "a5eb9d41",
   "metadata": {},
   "source": [
    "## 5. Is there any relation between Person Age and annual premium?"
   ]
  },
  {
   "cell_type": "markdown",
   "id": "4a505a61",
   "metadata": {},
   "source": [
    "## Hint: use correlation function (Correlation describes the relationship between two variables). \n",
    "\n",
    "## Correlation coefficient < -0.5           - Strong negative relationship\n",
    "\n",
    "## Correlation coefficient > 0.5            -  Strong positive relationship\n",
    "\n",
    "## 0.5 < Correlation coefficient < 0.5   - There is no relationship. "
   ]
  },
  {
   "cell_type": "code",
   "execution_count": 50,
   "id": "6a65eaa8",
   "metadata": {},
   "outputs": [
    {
     "data": {
      "text/plain": [
       "array([[1.        , 0.06777995],\n",
       "       [0.06777995, 1.        ]])"
      ]
     },
     "execution_count": 50,
     "metadata": {},
     "output_type": "execute_result"
    }
   ],
   "source": [
    "np.corrcoef(master_table['age'],master_table['annual premium (in Rs)'])"
   ]
  },
  {
   "cell_type": "code",
   "execution_count": null,
   "id": "862a99f4",
   "metadata": {},
   "outputs": [],
   "source": []
  },
  {
   "cell_type": "code",
   "execution_count": null,
   "id": "19b81468",
   "metadata": {},
   "outputs": [],
   "source": []
  }
 ],
 "metadata": {
  "kernelspec": {
   "display_name": "Python 3 (ipykernel)",
   "language": "python",
   "name": "python3"
  },
  "language_info": {
   "codemirror_mode": {
    "name": "ipython",
    "version": 3
   },
   "file_extension": ".py",
   "mimetype": "text/x-python",
   "name": "python",
   "nbconvert_exporter": "python",
   "pygments_lexer": "ipython3",
   "version": "3.9.13"
  }
 },
 "nbformat": 4,
 "nbformat_minor": 5
}
